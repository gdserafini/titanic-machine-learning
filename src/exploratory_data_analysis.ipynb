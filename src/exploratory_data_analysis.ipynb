{
 "cells": [
  {
   "cell_type": "markdown",
   "id": "18dd4516572fd76f",
   "metadata": {},
   "source": [
    "# Titanic ML competition - EDA"
   ]
  },
  {
   "metadata": {},
   "cell_type": "markdown",
   "source": [
    "## TODO\n",
    "* Melhorar análise exploratória de dados - Mais variáveis e mais indicativos estatísticos\n",
    "* Processar, tratar e limpar dados\n",
    "* Revisar e estudar mais os testes de hipóteses\n",
    "* Adicionar novos modelos de Machine Learning, feature and params engineer e testar modelos\n",
    "* Separar em arquivos específicos"
   ],
   "id": "8258ec09dca6c2ee"
  },
  {
   "cell_type": "markdown",
   "id": "59f4949c0ba13b8b",
   "metadata": {},
   "source": [
    "## Imports"
   ]
  },
  {
   "cell_type": "code",
   "id": "252817d0-94ec-4a60-8662-f279dec58496",
   "metadata": {
    "ExecuteTime": {
     "end_time": "2024-12-18T00:16:28.790285Z",
     "start_time": "2024-12-18T00:16:28.408148Z"
    }
   },
   "source": [
    "import pandas as pd\n",
    "import seaborn as sns\n",
    "import matplotlib.pyplot as plt\n",
    "import numpy as np\n",
    "from sklearn.ensemble import RandomForestClassifier\n",
    "from scipy.stats import chi2_contingency, ttest_ind\n",
    "import warnings"
   ],
   "outputs": [],
   "execution_count": 47
  },
  {
   "cell_type": "code",
   "id": "b32a2847-f4bd-481b-8278-095bdbb48bdf",
   "metadata": {
    "ExecuteTime": {
     "end_time": "2024-12-18T00:05:21.637067Z",
     "start_time": "2024-12-18T00:05:21.630580Z"
    }
   },
   "source": [
    "warnings.filterwarnings('ignore')"
   ],
   "outputs": [],
   "execution_count": 2
  },
  {
   "cell_type": "markdown",
   "id": "e3dac5a2470d2051",
   "metadata": {},
   "source": [
    "## EDA"
   ]
  },
  {
   "cell_type": "code",
   "id": "8fe0ba9b-e387-49a2-94d0-7ebc28b18d64",
   "metadata": {
    "ExecuteTime": {
     "end_time": "2024-12-18T00:07:10.262718Z",
     "start_time": "2024-12-18T00:07:10.124851Z"
    }
   },
   "source": [
    "train_data = pd.read_csv('../datasets/train.csv')\n",
    "train_data.head()"
   ],
   "outputs": [
    {
     "data": {
      "text/plain": [
       "   PassengerId  Survived  Pclass  \\\n",
       "0            1         0       3   \n",
       "1            2         1       1   \n",
       "2            3         1       3   \n",
       "3            4         1       1   \n",
       "4            5         0       3   \n",
       "\n",
       "                                                Name     Sex   Age  SibSp  \\\n",
       "0                            Braund, Mr. Owen Harris    male  22.0      1   \n",
       "1  Cumings, Mrs. John Bradley (Florence Briggs Th...  female  38.0      1   \n",
       "2                             Heikkinen, Miss. Laina  female  26.0      0   \n",
       "3       Futrelle, Mrs. Jacques Heath (Lily May Peel)  female  35.0      1   \n",
       "4                           Allen, Mr. William Henry    male  35.0      0   \n",
       "\n",
       "   Parch            Ticket     Fare Cabin Embarked  \n",
       "0      0         A/5 21171   7.2500   NaN        S  \n",
       "1      0          PC 17599  71.2833   C85        C  \n",
       "2      0  STON/O2. 3101282   7.9250   NaN        S  \n",
       "3      0            113803  53.1000  C123        S  \n",
       "4      0            373450   8.0500   NaN        S  "
      ],
      "text/html": [
       "<div>\n",
       "<style scoped>\n",
       "    .dataframe tbody tr th:only-of-type {\n",
       "        vertical-align: middle;\n",
       "    }\n",
       "\n",
       "    .dataframe tbody tr th {\n",
       "        vertical-align: top;\n",
       "    }\n",
       "\n",
       "    .dataframe thead th {\n",
       "        text-align: right;\n",
       "    }\n",
       "</style>\n",
       "<table border=\"1\" class=\"dataframe\">\n",
       "  <thead>\n",
       "    <tr style=\"text-align: right;\">\n",
       "      <th></th>\n",
       "      <th>PassengerId</th>\n",
       "      <th>Survived</th>\n",
       "      <th>Pclass</th>\n",
       "      <th>Name</th>\n",
       "      <th>Sex</th>\n",
       "      <th>Age</th>\n",
       "      <th>SibSp</th>\n",
       "      <th>Parch</th>\n",
       "      <th>Ticket</th>\n",
       "      <th>Fare</th>\n",
       "      <th>Cabin</th>\n",
       "      <th>Embarked</th>\n",
       "    </tr>\n",
       "  </thead>\n",
       "  <tbody>\n",
       "    <tr>\n",
       "      <th>0</th>\n",
       "      <td>1</td>\n",
       "      <td>0</td>\n",
       "      <td>3</td>\n",
       "      <td>Braund, Mr. Owen Harris</td>\n",
       "      <td>male</td>\n",
       "      <td>22.0</td>\n",
       "      <td>1</td>\n",
       "      <td>0</td>\n",
       "      <td>A/5 21171</td>\n",
       "      <td>7.2500</td>\n",
       "      <td>NaN</td>\n",
       "      <td>S</td>\n",
       "    </tr>\n",
       "    <tr>\n",
       "      <th>1</th>\n",
       "      <td>2</td>\n",
       "      <td>1</td>\n",
       "      <td>1</td>\n",
       "      <td>Cumings, Mrs. John Bradley (Florence Briggs Th...</td>\n",
       "      <td>female</td>\n",
       "      <td>38.0</td>\n",
       "      <td>1</td>\n",
       "      <td>0</td>\n",
       "      <td>PC 17599</td>\n",
       "      <td>71.2833</td>\n",
       "      <td>C85</td>\n",
       "      <td>C</td>\n",
       "    </tr>\n",
       "    <tr>\n",
       "      <th>2</th>\n",
       "      <td>3</td>\n",
       "      <td>1</td>\n",
       "      <td>3</td>\n",
       "      <td>Heikkinen, Miss. Laina</td>\n",
       "      <td>female</td>\n",
       "      <td>26.0</td>\n",
       "      <td>0</td>\n",
       "      <td>0</td>\n",
       "      <td>STON/O2. 3101282</td>\n",
       "      <td>7.9250</td>\n",
       "      <td>NaN</td>\n",
       "      <td>S</td>\n",
       "    </tr>\n",
       "    <tr>\n",
       "      <th>3</th>\n",
       "      <td>4</td>\n",
       "      <td>1</td>\n",
       "      <td>1</td>\n",
       "      <td>Futrelle, Mrs. Jacques Heath (Lily May Peel)</td>\n",
       "      <td>female</td>\n",
       "      <td>35.0</td>\n",
       "      <td>1</td>\n",
       "      <td>0</td>\n",
       "      <td>113803</td>\n",
       "      <td>53.1000</td>\n",
       "      <td>C123</td>\n",
       "      <td>S</td>\n",
       "    </tr>\n",
       "    <tr>\n",
       "      <th>4</th>\n",
       "      <td>5</td>\n",
       "      <td>0</td>\n",
       "      <td>3</td>\n",
       "      <td>Allen, Mr. William Henry</td>\n",
       "      <td>male</td>\n",
       "      <td>35.0</td>\n",
       "      <td>0</td>\n",
       "      <td>0</td>\n",
       "      <td>373450</td>\n",
       "      <td>8.0500</td>\n",
       "      <td>NaN</td>\n",
       "      <td>S</td>\n",
       "    </tr>\n",
       "  </tbody>\n",
       "</table>\n",
       "</div>"
      ]
     },
     "execution_count": 37,
     "metadata": {},
     "output_type": "execute_result"
    }
   ],
   "execution_count": 37
  },
  {
   "metadata": {
    "ExecuteTime": {
     "end_time": "2024-12-18T00:11:45.698188Z",
     "start_time": "2024-12-18T00:11:45.691497Z"
    }
   },
   "cell_type": "code",
   "source": [
    "num_data = ['Pclass', 'Age', 'SibSp', 'Parch', 'Fare']\n",
    "cat_data = ['Sex', 'Embarked']"
   ],
   "id": "bb8292bd8cfffd4b",
   "outputs": [],
   "execution_count": 42
  },
  {
   "cell_type": "code",
   "id": "cf7afa11a70a3dd",
   "metadata": {
    "ExecuteTime": {
     "end_time": "2024-12-18T00:07:56.446940Z",
     "start_time": "2024-12-18T00:07:56.411486Z"
    }
   },
   "source": "train_data.info()",
   "outputs": [
    {
     "name": "stdout",
     "output_type": "stream",
     "text": [
      "<class 'pandas.core.frame.DataFrame'>\n",
      "RangeIndex: 891 entries, 0 to 890\n",
      "Data columns (total 12 columns):\n",
      " #   Column       Non-Null Count  Dtype  \n",
      "---  ------       --------------  -----  \n",
      " 0   PassengerId  891 non-null    int64  \n",
      " 1   Survived     891 non-null    int64  \n",
      " 2   Pclass       891 non-null    int64  \n",
      " 3   Name         891 non-null    object \n",
      " 4   Sex          891 non-null    object \n",
      " 5   Age          714 non-null    float64\n",
      " 6   SibSp        891 non-null    int64  \n",
      " 7   Parch        891 non-null    int64  \n",
      " 8   Ticket       891 non-null    object \n",
      " 9   Fare         891 non-null    float64\n",
      " 10  Cabin        204 non-null    object \n",
      " 11  Embarked     889 non-null    object \n",
      "dtypes: float64(2), int64(5), object(5)\n",
      "memory usage: 83.7+ KB\n"
     ]
    }
   ],
   "execution_count": 39
  },
  {
   "cell_type": "code",
   "id": "09e46d4f-9053-4c97-ae80-7a41997812e9",
   "metadata": {
    "ExecuteTime": {
     "end_time": "2024-12-18T00:05:23.161961Z",
     "start_time": "2024-12-18T00:05:23.130487Z"
    }
   },
   "source": [
    "train_data[num_data].describe()"
   ],
   "outputs": [
    {
     "data": {
      "text/plain": [
       "           Pclass         Age       SibSp       Parch        Fare\n",
       "count  889.000000  712.000000  889.000000  889.000000  889.000000\n",
       "mean     2.311586   29.642093    0.524184    0.382452   32.096681\n",
       "std      0.834700   14.492933    1.103705    0.806761   49.697504\n",
       "min      1.000000    0.420000    0.000000    0.000000    0.000000\n",
       "25%      2.000000   20.000000    0.000000    0.000000    7.895800\n",
       "50%      3.000000   28.000000    0.000000    0.000000   14.454200\n",
       "75%      3.000000   38.000000    1.000000    0.000000   31.000000\n",
       "max      3.000000   80.000000    8.000000    6.000000  512.329200"
      ],
      "text/html": [
       "<div>\n",
       "<style scoped>\n",
       "    .dataframe tbody tr th:only-of-type {\n",
       "        vertical-align: middle;\n",
       "    }\n",
       "\n",
       "    .dataframe tbody tr th {\n",
       "        vertical-align: top;\n",
       "    }\n",
       "\n",
       "    .dataframe thead th {\n",
       "        text-align: right;\n",
       "    }\n",
       "</style>\n",
       "<table border=\"1\" class=\"dataframe\">\n",
       "  <thead>\n",
       "    <tr style=\"text-align: right;\">\n",
       "      <th></th>\n",
       "      <th>Pclass</th>\n",
       "      <th>Age</th>\n",
       "      <th>SibSp</th>\n",
       "      <th>Parch</th>\n",
       "      <th>Fare</th>\n",
       "    </tr>\n",
       "  </thead>\n",
       "  <tbody>\n",
       "    <tr>\n",
       "      <th>count</th>\n",
       "      <td>889.000000</td>\n",
       "      <td>712.000000</td>\n",
       "      <td>889.000000</td>\n",
       "      <td>889.000000</td>\n",
       "      <td>889.000000</td>\n",
       "    </tr>\n",
       "    <tr>\n",
       "      <th>mean</th>\n",
       "      <td>2.311586</td>\n",
       "      <td>29.642093</td>\n",
       "      <td>0.524184</td>\n",
       "      <td>0.382452</td>\n",
       "      <td>32.096681</td>\n",
       "    </tr>\n",
       "    <tr>\n",
       "      <th>std</th>\n",
       "      <td>0.834700</td>\n",
       "      <td>14.492933</td>\n",
       "      <td>1.103705</td>\n",
       "      <td>0.806761</td>\n",
       "      <td>49.697504</td>\n",
       "    </tr>\n",
       "    <tr>\n",
       "      <th>min</th>\n",
       "      <td>1.000000</td>\n",
       "      <td>0.420000</td>\n",
       "      <td>0.000000</td>\n",
       "      <td>0.000000</td>\n",
       "      <td>0.000000</td>\n",
       "    </tr>\n",
       "    <tr>\n",
       "      <th>25%</th>\n",
       "      <td>2.000000</td>\n",
       "      <td>20.000000</td>\n",
       "      <td>0.000000</td>\n",
       "      <td>0.000000</td>\n",
       "      <td>7.895800</td>\n",
       "    </tr>\n",
       "    <tr>\n",
       "      <th>50%</th>\n",
       "      <td>3.000000</td>\n",
       "      <td>28.000000</td>\n",
       "      <td>0.000000</td>\n",
       "      <td>0.000000</td>\n",
       "      <td>14.454200</td>\n",
       "    </tr>\n",
       "    <tr>\n",
       "      <th>75%</th>\n",
       "      <td>3.000000</td>\n",
       "      <td>38.000000</td>\n",
       "      <td>1.000000</td>\n",
       "      <td>0.000000</td>\n",
       "      <td>31.000000</td>\n",
       "    </tr>\n",
       "    <tr>\n",
       "      <th>max</th>\n",
       "      <td>3.000000</td>\n",
       "      <td>80.000000</td>\n",
       "      <td>8.000000</td>\n",
       "      <td>6.000000</td>\n",
       "      <td>512.329200</td>\n",
       "    </tr>\n",
       "  </tbody>\n",
       "</table>\n",
       "</div>"
      ]
     },
     "execution_count": 5,
     "metadata": {},
     "output_type": "execute_result"
    }
   ],
   "execution_count": 5
  },
  {
   "metadata": {
    "ExecuteTime": {
     "end_time": "2024-12-18T00:12:32.889792Z",
     "start_time": "2024-12-18T00:12:32.878611Z"
    }
   },
   "cell_type": "code",
   "source": "train_data[cat_data].value_counts()",
   "id": "c47edc2b4d9c25cd",
   "outputs": [
    {
     "data": {
      "text/plain": [
       "Sex     Embarked\n",
       "male    S           441\n",
       "female  S           203\n",
       "male    C            95\n",
       "female  C            73\n",
       "male    Q            41\n",
       "female  Q            36\n",
       "Name: count, dtype: int64"
      ]
     },
     "execution_count": 45,
     "metadata": {},
     "output_type": "execute_result"
    }
   ],
   "execution_count": 45
  },
  {
   "cell_type": "code",
   "id": "5c503a1f-7342-4e0b-aaf5-76e6c9f14d09",
   "metadata": {
    "ExecuteTime": {
     "end_time": "2024-12-18T00:05:23.910662Z",
     "start_time": "2024-12-18T00:05:23.888331Z"
    }
   },
   "source": [
    "train_data['SurvivedStr'] = train_data['Survived'].replace({0: \"No\", 1: \"Yes\"})\n",
    "train_data.head()"
   ],
   "outputs": [
    {
     "data": {
      "text/plain": [
       "   PassengerId  Survived  Pclass  \\\n",
       "0            1         0       3   \n",
       "1            2         1       1   \n",
       "2            3         1       3   \n",
       "3            4         1       1   \n",
       "4            5         0       3   \n",
       "\n",
       "                                                Name     Sex   Age  SibSp  \\\n",
       "0                            Braund, Mr. Owen Harris    male  22.0      1   \n",
       "1  Cumings, Mrs. John Bradley (Florence Briggs Th...  female  38.0      1   \n",
       "2                             Heikkinen, Miss. Laina  female  26.0      0   \n",
       "3       Futrelle, Mrs. Jacques Heath (Lily May Peel)  female  35.0      1   \n",
       "4                           Allen, Mr. William Henry    male  35.0      0   \n",
       "\n",
       "   Parch            Ticket     Fare Cabin Embarked SurvivedStr  \n",
       "0      0         A/5 21171   7.2500   NaN        S          No  \n",
       "1      0          PC 17599  71.2833   C85        C         Yes  \n",
       "2      0  STON/O2. 3101282   7.9250   NaN        S         Yes  \n",
       "3      0            113803  53.1000  C123        S         Yes  \n",
       "4      0            373450   8.0500   NaN        S          No  "
      ],
      "text/html": [
       "<div>\n",
       "<style scoped>\n",
       "    .dataframe tbody tr th:only-of-type {\n",
       "        vertical-align: middle;\n",
       "    }\n",
       "\n",
       "    .dataframe tbody tr th {\n",
       "        vertical-align: top;\n",
       "    }\n",
       "\n",
       "    .dataframe thead th {\n",
       "        text-align: right;\n",
       "    }\n",
       "</style>\n",
       "<table border=\"1\" class=\"dataframe\">\n",
       "  <thead>\n",
       "    <tr style=\"text-align: right;\">\n",
       "      <th></th>\n",
       "      <th>PassengerId</th>\n",
       "      <th>Survived</th>\n",
       "      <th>Pclass</th>\n",
       "      <th>Name</th>\n",
       "      <th>Sex</th>\n",
       "      <th>Age</th>\n",
       "      <th>SibSp</th>\n",
       "      <th>Parch</th>\n",
       "      <th>Ticket</th>\n",
       "      <th>Fare</th>\n",
       "      <th>Cabin</th>\n",
       "      <th>Embarked</th>\n",
       "      <th>SurvivedStr</th>\n",
       "    </tr>\n",
       "  </thead>\n",
       "  <tbody>\n",
       "    <tr>\n",
       "      <th>0</th>\n",
       "      <td>1</td>\n",
       "      <td>0</td>\n",
       "      <td>3</td>\n",
       "      <td>Braund, Mr. Owen Harris</td>\n",
       "      <td>male</td>\n",
       "      <td>22.0</td>\n",
       "      <td>1</td>\n",
       "      <td>0</td>\n",
       "      <td>A/5 21171</td>\n",
       "      <td>7.2500</td>\n",
       "      <td>NaN</td>\n",
       "      <td>S</td>\n",
       "      <td>No</td>\n",
       "    </tr>\n",
       "    <tr>\n",
       "      <th>1</th>\n",
       "      <td>2</td>\n",
       "      <td>1</td>\n",
       "      <td>1</td>\n",
       "      <td>Cumings, Mrs. John Bradley (Florence Briggs Th...</td>\n",
       "      <td>female</td>\n",
       "      <td>38.0</td>\n",
       "      <td>1</td>\n",
       "      <td>0</td>\n",
       "      <td>PC 17599</td>\n",
       "      <td>71.2833</td>\n",
       "      <td>C85</td>\n",
       "      <td>C</td>\n",
       "      <td>Yes</td>\n",
       "    </tr>\n",
       "    <tr>\n",
       "      <th>2</th>\n",
       "      <td>3</td>\n",
       "      <td>1</td>\n",
       "      <td>3</td>\n",
       "      <td>Heikkinen, Miss. Laina</td>\n",
       "      <td>female</td>\n",
       "      <td>26.0</td>\n",
       "      <td>0</td>\n",
       "      <td>0</td>\n",
       "      <td>STON/O2. 3101282</td>\n",
       "      <td>7.9250</td>\n",
       "      <td>NaN</td>\n",
       "      <td>S</td>\n",
       "      <td>Yes</td>\n",
       "    </tr>\n",
       "    <tr>\n",
       "      <th>3</th>\n",
       "      <td>4</td>\n",
       "      <td>1</td>\n",
       "      <td>1</td>\n",
       "      <td>Futrelle, Mrs. Jacques Heath (Lily May Peel)</td>\n",
       "      <td>female</td>\n",
       "      <td>35.0</td>\n",
       "      <td>1</td>\n",
       "      <td>0</td>\n",
       "      <td>113803</td>\n",
       "      <td>53.1000</td>\n",
       "      <td>C123</td>\n",
       "      <td>S</td>\n",
       "      <td>Yes</td>\n",
       "    </tr>\n",
       "    <tr>\n",
       "      <th>4</th>\n",
       "      <td>5</td>\n",
       "      <td>0</td>\n",
       "      <td>3</td>\n",
       "      <td>Allen, Mr. William Henry</td>\n",
       "      <td>male</td>\n",
       "      <td>35.0</td>\n",
       "      <td>0</td>\n",
       "      <td>0</td>\n",
       "      <td>373450</td>\n",
       "      <td>8.0500</td>\n",
       "      <td>NaN</td>\n",
       "      <td>S</td>\n",
       "      <td>No</td>\n",
       "    </tr>\n",
       "  </tbody>\n",
       "</table>\n",
       "</div>"
      ]
     },
     "execution_count": 6,
     "metadata": {},
     "output_type": "execute_result"
    }
   ],
   "execution_count": 6
  },
  {
   "cell_type": "code",
   "id": "b133104d-2141-4139-8e6e-a20511129a62",
   "metadata": {
    "ExecuteTime": {
     "end_time": "2024-12-18T00:05:24.769389Z",
     "start_time": "2024-12-18T00:05:24.328272Z"
    }
   },
   "source": [
    "plt.figure(figsize=(7,5))\n",
    "graph = sns.countplot(data=train_data, x='SurvivedStr')\n",
    "plt.title('Survivors', fontsize=16)\n",
    "plt.xlabel('Survived?', fontsize=12)\n",
    "plt.xticks(fontsize=11)\n",
    "plt.yticks(fontsize=11)\n",
    "plt.ylabel('Count', fontsize=12)\n",
    "for p in graph.patches: #bars\n",
    "    graph.annotate( #add text\n",
    "        f'{p.get_height()}', #bar height = value\n",
    "        (p.get_x() + p.get_width() / 2., p.get_height()), #value position\n",
    "        ha='center', va='bottom', #align\n",
    "        fontsize=12\n",
    "    )\n",
    "plt.tight_layout()\n",
    "plt.show()"
   ],
   "outputs": [
    {
     "data": {
      "text/plain": [
       "<Figure size 700x500 with 1 Axes>"
      ],
      "image/png": "[encoded data removed]"
     },
     "metadata": {},
     "output_type": "display_data"
    }
   ],
   "execution_count": 7
  },
  {
   "cell_type": "code",
   "id": "b2d26cca-147c-44c2-b555-39cc10422878",
   "metadata": {
    "ExecuteTime": {
     "end_time": "2024-12-18T00:05:25.140195Z",
     "start_time": "2024-12-18T00:05:25.116685Z"
    }
   },
   "source": [
    "survived = train_data.query('Survived==1')\n",
    "not_survived = train_data.query('Survived==0')"
   ],
   "outputs": [],
   "execution_count": 8
  },
  {
   "cell_type": "code",
   "id": "ab4fc563-0f0a-43fb-a9bb-e6d67d25d410",
   "metadata": {
    "ExecuteTime": {
     "end_time": "2024-12-18T00:05:25.410922Z",
     "start_time": "2024-12-18T00:05:25.378421Z"
    }
   },
   "source": [
    "survived[num_data].describe()"
   ],
   "outputs": [
    {
     "data": {
      "text/plain": [
       "           Pclass         Age       SibSp       Parch        Fare\n",
       "count  340.000000  288.000000  340.000000  340.000000  340.000000\n",
       "mean     1.955882   28.193299    0.476471    0.467647   48.209498\n",
       "std      0.862763   14.859146    0.709838    0.773156   66.748773\n",
       "min      1.000000    0.420000    0.000000    0.000000    0.000000\n",
       "25%      1.000000   19.000000    0.000000    0.000000   12.443750\n",
       "50%      2.000000   28.000000    0.000000    0.000000   26.000000\n",
       "75%      3.000000   36.000000    1.000000    1.000000   56.946900\n",
       "max      3.000000   80.000000    4.000000    5.000000  512.329200"
      ],
      "text/html": [
       "<div>\n",
       "<style scoped>\n",
       "    .dataframe tbody tr th:only-of-type {\n",
       "        vertical-align: middle;\n",
       "    }\n",
       "\n",
       "    .dataframe tbody tr th {\n",
       "        vertical-align: top;\n",
       "    }\n",
       "\n",
       "    .dataframe thead th {\n",
       "        text-align: right;\n",
       "    }\n",
       "</style>\n",
       "<table border=\"1\" class=\"dataframe\">\n",
       "  <thead>\n",
       "    <tr style=\"text-align: right;\">\n",
       "      <th></th>\n",
       "      <th>Pclass</th>\n",
       "      <th>Age</th>\n",
       "      <th>SibSp</th>\n",
       "      <th>Parch</th>\n",
       "      <th>Fare</th>\n",
       "    </tr>\n",
       "  </thead>\n",
       "  <tbody>\n",
       "    <tr>\n",
       "      <th>count</th>\n",
       "      <td>340.000000</td>\n",
       "      <td>288.000000</td>\n",
       "      <td>340.000000</td>\n",
       "      <td>340.000000</td>\n",
       "      <td>340.000000</td>\n",
       "    </tr>\n",
       "    <tr>\n",
       "      <th>mean</th>\n",
       "      <td>1.955882</td>\n",
       "      <td>28.193299</td>\n",
       "      <td>0.476471</td>\n",
       "      <td>0.467647</td>\n",
       "      <td>48.209498</td>\n",
       "    </tr>\n",
       "    <tr>\n",
       "      <th>std</th>\n",
       "      <td>0.862763</td>\n",
       "      <td>14.859146</td>\n",
       "      <td>0.709838</td>\n",
       "      <td>0.773156</td>\n",
       "      <td>66.748773</td>\n",
       "    </tr>\n",
       "    <tr>\n",
       "      <th>min</th>\n",
       "      <td>1.000000</td>\n",
       "      <td>0.420000</td>\n",
       "      <td>0.000000</td>\n",
       "      <td>0.000000</td>\n",
       "      <td>0.000000</td>\n",
       "    </tr>\n",
       "    <tr>\n",
       "      <th>25%</th>\n",
       "      <td>1.000000</td>\n",
       "      <td>19.000000</td>\n",
       "      <td>0.000000</td>\n",
       "      <td>0.000000</td>\n",
       "      <td>12.443750</td>\n",
       "    </tr>\n",
       "    <tr>\n",
       "      <th>50%</th>\n",
       "      <td>2.000000</td>\n",
       "      <td>28.000000</td>\n",
       "      <td>0.000000</td>\n",
       "      <td>0.000000</td>\n",
       "      <td>26.000000</td>\n",
       "    </tr>\n",
       "    <tr>\n",
       "      <th>75%</th>\n",
       "      <td>3.000000</td>\n",
       "      <td>36.000000</td>\n",
       "      <td>1.000000</td>\n",
       "      <td>1.000000</td>\n",
       "      <td>56.946900</td>\n",
       "    </tr>\n",
       "    <tr>\n",
       "      <th>max</th>\n",
       "      <td>3.000000</td>\n",
       "      <td>80.000000</td>\n",
       "      <td>4.000000</td>\n",
       "      <td>5.000000</td>\n",
       "      <td>512.329200</td>\n",
       "    </tr>\n",
       "  </tbody>\n",
       "</table>\n",
       "</div>"
      ]
     },
     "execution_count": 9,
     "metadata": {},
     "output_type": "execute_result"
    }
   ],
   "execution_count": 9
  },
  {
   "cell_type": "code",
   "id": "417b7bda-f42f-4db1-a257-5b4d5bc5b37d",
   "metadata": {
    "ExecuteTime": {
     "end_time": "2024-12-18T00:05:25.750454Z",
     "start_time": "2024-12-18T00:05:25.722965Z"
    }
   },
   "source": [
    "not_survived[num_data].describe()"
   ],
   "outputs": [
    {
     "data": {
      "text/plain": [
       "           Pclass         Age       SibSp       Parch        Fare\n",
       "count  549.000000  424.000000  549.000000  549.000000  549.000000\n",
       "mean     2.531876   30.626179    0.553734    0.329690   22.117887\n",
       "std      0.735805   14.172110    1.288399    0.823166   31.388207\n",
       "min      1.000000    1.000000    0.000000    0.000000    0.000000\n",
       "25%      2.000000   21.000000    0.000000    0.000000    7.854200\n",
       "50%      3.000000   28.000000    0.000000    0.000000   10.500000\n",
       "75%      3.000000   39.000000    1.000000    0.000000   26.000000\n",
       "max      3.000000   74.000000    8.000000    6.000000  263.000000"
      ],
      "text/html": [
       "<div>\n",
       "<style scoped>\n",
       "    .dataframe tbody tr th:only-of-type {\n",
       "        vertical-align: middle;\n",
       "    }\n",
       "\n",
       "    .dataframe tbody tr th {\n",
       "        vertical-align: top;\n",
       "    }\n",
       "\n",
       "    .dataframe thead th {\n",
       "        text-align: right;\n",
       "    }\n",
       "</style>\n",
       "<table border=\"1\" class=\"dataframe\">\n",
       "  <thead>\n",
       "    <tr style=\"text-align: right;\">\n",
       "      <th></th>\n",
       "      <th>Pclass</th>\n",
       "      <th>Age</th>\n",
       "      <th>SibSp</th>\n",
       "      <th>Parch</th>\n",
       "      <th>Fare</th>\n",
       "    </tr>\n",
       "  </thead>\n",
       "  <tbody>\n",
       "    <tr>\n",
       "      <th>count</th>\n",
       "      <td>549.000000</td>\n",
       "      <td>424.000000</td>\n",
       "      <td>549.000000</td>\n",
       "      <td>549.000000</td>\n",
       "      <td>549.000000</td>\n",
       "    </tr>\n",
       "    <tr>\n",
       "      <th>mean</th>\n",
       "      <td>2.531876</td>\n",
       "      <td>30.626179</td>\n",
       "      <td>0.553734</td>\n",
       "      <td>0.329690</td>\n",
       "      <td>22.117887</td>\n",
       "    </tr>\n",
       "    <tr>\n",
       "      <th>std</th>\n",
       "      <td>0.735805</td>\n",
       "      <td>14.172110</td>\n",
       "      <td>1.288399</td>\n",
       "      <td>0.823166</td>\n",
       "      <td>31.388207</td>\n",
       "    </tr>\n",
       "    <tr>\n",
       "      <th>min</th>\n",
       "      <td>1.000000</td>\n",
       "      <td>1.000000</td>\n",
       "      <td>0.000000</td>\n",
       "      <td>0.000000</td>\n",
       "      <td>0.000000</td>\n",
       "    </tr>\n",
       "    <tr>\n",
       "      <th>25%</th>\n",
       "      <td>2.000000</td>\n",
       "      <td>21.000000</td>\n",
       "      <td>0.000000</td>\n",
       "      <td>0.000000</td>\n",
       "      <td>7.854200</td>\n",
       "    </tr>\n",
       "    <tr>\n",
       "      <th>50%</th>\n",
       "      <td>3.000000</td>\n",
       "      <td>28.000000</td>\n",
       "      <td>0.000000</td>\n",
       "      <td>0.000000</td>\n",
       "      <td>10.500000</td>\n",
       "    </tr>\n",
       "    <tr>\n",
       "      <th>75%</th>\n",
       "      <td>3.000000</td>\n",
       "      <td>39.000000</td>\n",
       "      <td>1.000000</td>\n",
       "      <td>0.000000</td>\n",
       "      <td>26.000000</td>\n",
       "    </tr>\n",
       "    <tr>\n",
       "      <th>max</th>\n",
       "      <td>3.000000</td>\n",
       "      <td>74.000000</td>\n",
       "      <td>8.000000</td>\n",
       "      <td>6.000000</td>\n",
       "      <td>263.000000</td>\n",
       "    </tr>\n",
       "  </tbody>\n",
       "</table>\n",
       "</div>"
      ]
     },
     "execution_count": 10,
     "metadata": {},
     "output_type": "execute_result"
    }
   ],
   "execution_count": 10
  },
  {
   "metadata": {
    "ExecuteTime": {
     "end_time": "2024-12-18T00:21:49.021730Z",
     "start_time": "2024-12-18T00:21:48.855403Z"
    }
   },
   "cell_type": "code",
   "source": "survived[cat_data].value_counts()",
   "id": "e3139dc8bb7cbff7",
   "outputs": [
    {
     "data": {
      "text/plain": [
       "Sex     Embarked\n",
       "female  S           140\n",
       "male    S            77\n",
       "female  C            64\n",
       "male    C            29\n",
       "female  Q            27\n",
       "male    Q             3\n",
       "Name: count, dtype: int64"
      ]
     },
     "execution_count": 52,
     "metadata": {},
     "output_type": "execute_result"
    }
   ],
   "execution_count": 52
  },
  {
   "metadata": {
    "ExecuteTime": {
     "end_time": "2024-12-18T00:22:08.365540Z",
     "start_time": "2024-12-18T00:22:08.349737Z"
    }
   },
   "cell_type": "code",
   "source": "not_survived[cat_data].value_counts()",
   "id": "47ee6b68903275f4",
   "outputs": [
    {
     "data": {
      "text/plain": [
       "Sex     Embarked\n",
       "male    S           364\n",
       "        C            66\n",
       "female  S            63\n",
       "male    Q            38\n",
       "female  C             9\n",
       "        Q             9\n",
       "Name: count, dtype: int64"
      ]
     },
     "execution_count": 55,
     "metadata": {},
     "output_type": "execute_result"
    }
   ],
   "execution_count": 55
  },
  {
   "cell_type": "code",
   "id": "e8b7381f-a9eb-4027-a8ce-904750f209cc",
   "metadata": {
    "ExecuteTime": {
     "end_time": "2024-12-18T00:05:26.353384Z",
     "start_time": "2024-12-18T00:05:25.986587Z"
    }
   },
   "source": [
    "plt.figure(figsize=(7,5))\n",
    "graph = sns.countplot(data=train_data, x='Embarked', hue='SurvivedStr')\n",
    "plt.title('Embarked', fontsize=16)\n",
    "plt.xlabel('Pclass', fontsize=12)\n",
    "plt.ylabel('Count', fontsize=12)\n",
    "for p in graph.patches:\n",
    "    graph.annotate(\n",
    "        f'{p.get_height()}',\n",
    "        (p.get_x() + p.get_width() / 2., p.get_height()),\n",
    "        ha='center', va='bottom',\n",
    "        fontsize=11\n",
    "    )\n",
    "plt.tight_layout()\n",
    "plt.show()"
   ],
   "outputs": [
    {
     "data": {
      "text/plain": [
       "<Figure size 700x500 with 1 Axes>"
      ],
      "image/png": "[encoded data removed]"
     },
     "metadata": {},
     "output_type": "display_data"
    }
   ],
   "execution_count": 11
  },
  {
   "cell_type": "markdown",
   "id": "b07f6d43-687b-4a20-ba07-c149abe712c0",
   "metadata": {},
   "source": [
    "The proportion of survivors in C or Q appears to be higher than in S"
   ]
  },
  {
   "cell_type": "markdown",
   "id": "3c5a9c20-4bf6-4d62-bc7e-2673dcfaa8e3",
   "metadata": {},
   "source": [
    "## Insight 1"
   ]
  },
  {
   "cell_type": "markdown",
   "id": "8c8d1ef4-2ba4-44e5-805c-e1f30a632b58",
   "metadata": {},
   "source": [
    "The mean, maximum value and median of Pclass and Fare in the survivor table are higher than in the non-survivor table. <br>\n",
    "This shows us that the social class of passengers can have a great influence on their survival. <br>\n",
    "The remaing variables do not show considerable variations between the two tables."
   ]
  },
  {
   "cell_type": "code",
   "id": "aec3f215-9c7c-4f67-ac40-3678164ac4cf",
   "metadata": {
    "ExecuteTime": {
     "end_time": "2024-12-18T00:05:27.516552Z",
     "start_time": "2024-12-18T00:05:27.133215Z"
    }
   },
   "source": [
    "plt.figure(figsize=(7,5))\n",
    "graph = sns.countplot(data=train_data, x='Pclass', hue='SurvivedStr')\n",
    "plt.title('Survivors', fontsize=16)\n",
    "plt.xlabel('Pclass', fontsize=12)\n",
    "plt.ylabel('Count', fontsize=12)\n",
    "for p in graph.patches:\n",
    "    graph.annotate(\n",
    "        f'{p.get_height()}',\n",
    "        (p.get_x() + p.get_width() / 2., p.get_height()),\n",
    "        ha='center', va='bottom',\n",
    "        fontsize=11\n",
    "    )\n",
    "plt.tight_layout()\n",
    "plt.show()"
   ],
   "outputs": [
    {
     "data": {
      "text/plain": [
       "<Figure size 700x500 with 1 Axes>"
      ],
      "image/png": "[encoded data removed]"
     },
     "metadata": {},
     "output_type": "display_data"
    }
   ],
   "execution_count": 12
  },
  {
   "cell_type": "code",
   "id": "50969400-65a0-4bce-a8c7-51b0f16c196f",
   "metadata": {
    "ExecuteTime": {
     "end_time": "2024-12-18T00:05:27.833988Z",
     "start_time": "2024-12-18T00:05:27.811771Z"
    }
   },
   "source": [
    "train_data['FareLog2'] = np.log2(train_data['Fare'])\n",
    "train_data.head()"
   ],
   "outputs": [
    {
     "data": {
      "text/plain": [
       "   PassengerId  Survived  Pclass  \\\n",
       "0            1         0       3   \n",
       "1            2         1       1   \n",
       "2            3         1       3   \n",
       "3            4         1       1   \n",
       "4            5         0       3   \n",
       "\n",
       "                                                Name     Sex   Age  SibSp  \\\n",
       "0                            Braund, Mr. Owen Harris    male  22.0      1   \n",
       "1  Cumings, Mrs. John Bradley (Florence Briggs Th...  female  38.0      1   \n",
       "2                             Heikkinen, Miss. Laina  female  26.0      0   \n",
       "3       Futrelle, Mrs. Jacques Heath (Lily May Peel)  female  35.0      1   \n",
       "4                           Allen, Mr. William Henry    male  35.0      0   \n",
       "\n",
       "   Parch            Ticket     Fare Cabin Embarked SurvivedStr  FareLog2  \n",
       "0      0         A/5 21171   7.2500   NaN        S          No  2.857981  \n",
       "1      0          PC 17599  71.2833   C85        C         Yes  6.155492  \n",
       "2      0  STON/O2. 3101282   7.9250   NaN        S         Yes  2.986411  \n",
       "3      0            113803  53.1000  C123        S         Yes  5.730640  \n",
       "4      0            373450   8.0500   NaN        S          No  3.008989  "
      ],
      "text/html": [
       "<div>\n",
       "<style scoped>\n",
       "    .dataframe tbody tr th:only-of-type {\n",
       "        vertical-align: middle;\n",
       "    }\n",
       "\n",
       "    .dataframe tbody tr th {\n",
       "        vertical-align: top;\n",
       "    }\n",
       "\n",
       "    .dataframe thead th {\n",
       "        text-align: right;\n",
       "    }\n",
       "</style>\n",
       "<table border=\"1\" class=\"dataframe\">\n",
       "  <thead>\n",
       "    <tr style=\"text-align: right;\">\n",
       "      <th></th>\n",
       "      <th>PassengerId</th>\n",
       "      <th>Survived</th>\n",
       "      <th>Pclass</th>\n",
       "      <th>Name</th>\n",
       "      <th>Sex</th>\n",
       "      <th>Age</th>\n",
       "      <th>SibSp</th>\n",
       "      <th>Parch</th>\n",
       "      <th>Ticket</th>\n",
       "      <th>Fare</th>\n",
       "      <th>Cabin</th>\n",
       "      <th>Embarked</th>\n",
       "      <th>SurvivedStr</th>\n",
       "      <th>FareLog2</th>\n",
       "    </tr>\n",
       "  </thead>\n",
       "  <tbody>\n",
       "    <tr>\n",
       "      <th>0</th>\n",
       "      <td>1</td>\n",
       "      <td>0</td>\n",
       "      <td>3</td>\n",
       "      <td>Braund, Mr. Owen Harris</td>\n",
       "      <td>male</td>\n",
       "      <td>22.0</td>\n",
       "      <td>1</td>\n",
       "      <td>0</td>\n",
       "      <td>A/5 21171</td>\n",
       "      <td>7.2500</td>\n",
       "      <td>NaN</td>\n",
       "      <td>S</td>\n",
       "      <td>No</td>\n",
       "      <td>2.857981</td>\n",
       "    </tr>\n",
       "    <tr>\n",
       "      <th>1</th>\n",
       "      <td>2</td>\n",
       "      <td>1</td>\n",
       "      <td>1</td>\n",
       "      <td>Cumings, Mrs. John Bradley (Florence Briggs Th...</td>\n",
       "      <td>female</td>\n",
       "      <td>38.0</td>\n",
       "      <td>1</td>\n",
       "      <td>0</td>\n",
       "      <td>PC 17599</td>\n",
       "      <td>71.2833</td>\n",
       "      <td>C85</td>\n",
       "      <td>C</td>\n",
       "      <td>Yes</td>\n",
       "      <td>6.155492</td>\n",
       "    </tr>\n",
       "    <tr>\n",
       "      <th>2</th>\n",
       "      <td>3</td>\n",
       "      <td>1</td>\n",
       "      <td>3</td>\n",
       "      <td>Heikkinen, Miss. Laina</td>\n",
       "      <td>female</td>\n",
       "      <td>26.0</td>\n",
       "      <td>0</td>\n",
       "      <td>0</td>\n",
       "      <td>STON/O2. 3101282</td>\n",
       "      <td>7.9250</td>\n",
       "      <td>NaN</td>\n",
       "      <td>S</td>\n",
       "      <td>Yes</td>\n",
       "      <td>2.986411</td>\n",
       "    </tr>\n",
       "    <tr>\n",
       "      <th>3</th>\n",
       "      <td>4</td>\n",
       "      <td>1</td>\n",
       "      <td>1</td>\n",
       "      <td>Futrelle, Mrs. Jacques Heath (Lily May Peel)</td>\n",
       "      <td>female</td>\n",
       "      <td>35.0</td>\n",
       "      <td>1</td>\n",
       "      <td>0</td>\n",
       "      <td>113803</td>\n",
       "      <td>53.1000</td>\n",
       "      <td>C123</td>\n",
       "      <td>S</td>\n",
       "      <td>Yes</td>\n",
       "      <td>5.730640</td>\n",
       "    </tr>\n",
       "    <tr>\n",
       "      <th>4</th>\n",
       "      <td>5</td>\n",
       "      <td>0</td>\n",
       "      <td>3</td>\n",
       "      <td>Allen, Mr. William Henry</td>\n",
       "      <td>male</td>\n",
       "      <td>35.0</td>\n",
       "      <td>0</td>\n",
       "      <td>0</td>\n",
       "      <td>373450</td>\n",
       "      <td>8.0500</td>\n",
       "      <td>NaN</td>\n",
       "      <td>S</td>\n",
       "      <td>No</td>\n",
       "      <td>3.008989</td>\n",
       "    </tr>\n",
       "  </tbody>\n",
       "</table>\n",
       "</div>"
      ]
     },
     "execution_count": 13,
     "metadata": {},
     "output_type": "execute_result"
    }
   ],
   "execution_count": 13
  },
  {
   "cell_type": "code",
   "id": "67ee8e10-fcaf-4dd4-abc5-40c8dc2512f2",
   "metadata": {
    "ExecuteTime": {
     "end_time": "2024-12-18T00:05:28.466114Z",
     "start_time": "2024-12-18T00:05:28.156056Z"
    }
   },
   "source": [
    "plt.figure(figsize=(9,5))\n",
    "sns.boxplot(x='SurvivedStr', y='FareLog2', data=train_data)\n",
    "plt.title('Pclass comparison - Suvived x Not Survived')\n",
    "plt.xlabel('Survived?')\n",
    "plt.ylabel('Pclass - Log2')\n",
    "plt.show()"
   ],
   "outputs": [
    {
     "data": {
      "text/plain": [
       "<Figure size 900x500 with 1 Axes>"
      ],
      "image/png": "[encoded data removed]"
     },
     "metadata": {},
     "output_type": "display_data"
    }
   ],
   "execution_count": 14
  },
  {
   "cell_type": "code",
   "id": "9b32002a-e16a-4465-8433-07786deca4bb",
   "metadata": {
    "ExecuteTime": {
     "end_time": "2024-12-18T00:05:28.945410Z",
     "start_time": "2024-12-18T00:05:28.934424Z"
    }
   },
   "source": [
    "survived['Sex'].value_counts()"
   ],
   "outputs": [
    {
     "data": {
      "text/plain": [
       "Sex\n",
       "female    231\n",
       "male      109\n",
       "Name: count, dtype: int64"
      ]
     },
     "execution_count": 15,
     "metadata": {},
     "output_type": "execute_result"
    }
   ],
   "execution_count": 15
  },
  {
   "cell_type": "code",
   "id": "ad260a28-be32-4c60-b805-dcff525c48d5",
   "metadata": {
    "ExecuteTime": {
     "end_time": "2024-12-18T00:05:29.429782Z",
     "start_time": "2024-12-18T00:05:29.417607Z"
    }
   },
   "source": [
    "not_survived['Sex'].value_counts()"
   ],
   "outputs": [
    {
     "data": {
      "text/plain": [
       "Sex\n",
       "male      468\n",
       "female     81\n",
       "Name: count, dtype: int64"
      ]
     },
     "execution_count": 16,
     "metadata": {},
     "output_type": "execute_result"
    }
   ],
   "execution_count": 16
  },
  {
   "cell_type": "markdown",
   "id": "7ed336cf-f522-4f09-895f-436f3d3867cf",
   "metadata": {},
   "source": [
    "## Insight 2\n",
    "More women survived than men, which may indicate that gender has some influence on survival or not."
   ]
  },
  {
   "cell_type": "code",
   "id": "07a3d2e5-775d-40c3-9402-99753472797a",
   "metadata": {
    "ExecuteTime": {
     "end_time": "2024-12-18T00:05:30.129774Z",
     "start_time": "2024-12-18T00:05:29.861385Z"
    }
   },
   "source": [
    "plt.figure(figsize=(7,5))\n",
    "graph = sns.countplot(data=train_data, x='Sex', hue='SurvivedStr')\n",
    "plt.title('Survivors', fontsize=16)\n",
    "plt.xlabel('Pclass', fontsize=12)\n",
    "plt.ylabel('Count', fontsize=12)\n",
    "for p in graph.patches:\n",
    "    graph.annotate(\n",
    "        f'{p.get_height()}',\n",
    "        (p.get_x() + p.get_width() / 2., p.get_height()),\n",
    "        ha='center', va='bottom',\n",
    "        fontsize=11\n",
    "    )\n",
    "plt.tight_layout()\n",
    "plt.show()"
   ],
   "outputs": [
    {
     "data": {
      "text/plain": [
       "<Figure size 700x500 with 1 Axes>"
      ],
      "image/png": "[encoded data removed]"
     },
     "metadata": {},
     "output_type": "display_data"
    }
   ],
   "execution_count": 17
  },
  {
   "cell_type": "markdown",
   "id": "9a03644f-8cd7-45f8-8689-3633861f8797",
   "metadata": {},
   "source": [
    "## Insight 3"
   ]
  },
  {
   "cell_type": "markdown",
   "id": "293fda5e-6c11-48e2-9957-c3d579677635",
   "metadata": {},
   "source": [
    "People with more SibSP and more Parch seem to survive less."
   ]
  },
  {
   "cell_type": "code",
   "id": "21a37366-dfd3-4d65-8870-6ab67e75ce70",
   "metadata": {
    "ExecuteTime": {
     "end_time": "2024-12-18T00:05:30.933471Z",
     "start_time": "2024-12-18T00:05:30.527469Z"
    }
   },
   "source": [
    "plt.figure(figsize=(7,5))\n",
    "graph = sns.countplot(data=train_data, x='SibSp', hue='SurvivedStr')\n",
    "plt.title('Survivors', fontsize=16)\n",
    "plt.xlabel('SibSp', fontsize=12)\n",
    "plt.ylabel('Count', fontsize=12)\n",
    "for p in graph.patches:\n",
    "    graph.annotate(\n",
    "        f'{p.get_height()}',\n",
    "        (p.get_x() + p.get_width() / 2., p.get_height()),\n",
    "        ha='center', va='bottom',\n",
    "        fontsize=11\n",
    "    )\n",
    "plt.tight_layout()\n",
    "plt.show()"
   ],
   "outputs": [
    {
     "data": {
      "text/plain": [
       "<Figure size 700x500 with 1 Axes>"
      ],
      "image/png": "[encoded data removed]"
     },
     "metadata": {},
     "output_type": "display_data"
    }
   ],
   "execution_count": 18
  },
  {
   "cell_type": "code",
   "id": "1aaff4ae-0d2d-45eb-a12e-eb10dd00e4ae",
   "metadata": {
    "ExecuteTime": {
     "end_time": "2024-12-18T00:05:31.353921Z",
     "start_time": "2024-12-18T00:05:31.001641Z"
    }
   },
   "source": [
    "plt.figure(figsize=(7,5))\n",
    "graph = sns.countplot(data=train_data, x='Parch', hue='SurvivedStr')\n",
    "plt.title('Survivors', fontsize=16)\n",
    "plt.xlabel('Parch', fontsize=12)\n",
    "plt.ylabel('Count', fontsize=12)\n",
    "for p in graph.patches:\n",
    "    graph.annotate(\n",
    "        f'{p.get_height()}',\n",
    "        (p.get_x() + p.get_width() / 2., p.get_height()),\n",
    "        ha='center', va='bottom',\n",
    "        fontsize=11\n",
    "    )\n",
    "plt.tight_layout()\n",
    "plt.show()"
   ],
   "outputs": [
    {
     "data": {
      "text/plain": [
       "<Figure size 700x500 with 1 Axes>"
      ],
      "image/png": "[encoded data removed]"
     },
     "metadata": {},
     "output_type": "display_data"
    }
   ],
   "execution_count": 19
  },
  {
   "cell_type": "markdown",
   "id": "4f0ea8cf-95ce-4206-99be-70457f086642",
   "metadata": {},
   "source": [
    "## Hypotesis testing"
   ]
  },
  {
   "cell_type": "markdown",
   "id": "ef4e882d-d801-4efa-a0f3-b9224d95b465",
   "metadata": {},
   "source": [
    "### Woman survived more\n",
    "H0 -> The proportion of female survivors is the same as of men.<br>\n",
    "H1 -> The proportion of female survivors is greater than that of men."
   ]
  },
  {
   "cell_type": "code",
   "id": "96090d7d-6d9f-4d49-9b63-c06fd3da6627",
   "metadata": {
    "ExecuteTime": {
     "end_time": "2024-12-18T00:05:31.462160Z",
     "start_time": "2024-12-18T00:05:31.444376Z"
    }
   },
   "source": [
    "contingency_table_sex = pd.crosstab(train_data['Sex'], train_data['Survived'])"
   ],
   "outputs": [],
   "execution_count": 20
  },
  {
   "cell_type": "code",
   "id": "37d916fb-9871-43eb-b2e6-12a1b4d60633",
   "metadata": {
    "ExecuteTime": {
     "end_time": "2024-12-18T00:05:31.521049Z",
     "start_time": "2024-12-18T00:05:31.511440Z"
    }
   },
   "source": [
    "chi2, p, dof, expected = chi2_contingency(contingency_table_sex)\n",
    "print(f'Chi2: {round(chi2,2)}\\np-value: {round(p,2)}')"
   ],
   "outputs": [
    {
     "name": "stdout",
     "output_type": "stream",
     "text": [
      "Chi2: 258.43\n",
      "p-value: 0.0\n"
     ]
    }
   ],
   "execution_count": 21
  },
  {
   "cell_type": "markdown",
   "id": "2eeca66a-226e-4ac3-9b97-7fcb8bafe0dc",
   "metadata": {},
   "source": [
    "**Rejected H0**"
   ]
  },
  {
   "cell_type": "markdown",
   "id": "554d91a1-3b58-49b0-82e9-88a29707b93c",
   "metadata": {},
   "source": [
    "### Passengers with higher Fare survived more"
   ]
  },
  {
   "cell_type": "markdown",
   "id": "df183734-f1a9-49c7-bde8-2a26484cb64a",
   "metadata": {},
   "source": [
    "H0 -> The average Fare for survivors is the same as that non-survivors<br>\n",
    "H1 -> The average Fare for survivors is higher than that for non-survivors"
   ]
  },
  {
   "cell_type": "code",
   "id": "fa7d2df3-a477-4fb9-97b4-52b425d76826",
   "metadata": {
    "ExecuteTime": {
     "end_time": "2024-12-18T00:05:31.638096Z",
     "start_time": "2024-12-18T00:05:31.632585Z"
    }
   },
   "source": [
    "survived_fare = survived['Fare']\n",
    "not_survived_fare = not_survived['Fare']"
   ],
   "outputs": [],
   "execution_count": 22
  },
  {
   "cell_type": "code",
   "id": "f98c389e-6e17-4467-a602-077b94f8eab3",
   "metadata": {
    "ExecuteTime": {
     "end_time": "2024-12-18T00:05:31.732136Z",
     "start_time": "2024-12-18T00:05:31.720398Z"
    }
   },
   "source": [
    "t_stat, p_value = ttest_ind(\n",
    "    survived_fare, not_survived_fare, nan_policy='omit'\n",
    ")\n",
    "print(f't-value: {round(t_stat,2)}\\np-value: {round(p_value,2)}')"
   ],
   "outputs": [
    {
     "name": "stdout",
     "output_type": "stream",
     "text": [
      "t-value: 7.86\n",
      "p-value: 0.0\n"
     ]
    }
   ],
   "execution_count": 23
  },
  {
   "cell_type": "markdown",
   "id": "23f885b6-6980-4592-9771-71232d87f4d4",
   "metadata": {},
   "source": [
    "**Rejected H0**"
   ]
  },
  {
   "cell_type": "markdown",
   "id": "b692919e-d9e8-4b31-a164-728085d30479",
   "metadata": {},
   "source": [
    "### Passengers in Pclass 1 survived more"
   ]
  },
  {
   "cell_type": "markdown",
   "id": "dc08fb44-a3f6-4145-81aa-46ec6dec8b47",
   "metadata": {},
   "source": [
    "HO -> It is the same<br>\n",
    "H1 -> Higher"
   ]
  },
  {
   "cell_type": "code",
   "id": "e709c43f-90bd-4d83-ac09-f2e063304495",
   "metadata": {
    "ExecuteTime": {
     "end_time": "2024-12-18T00:05:31.918256Z",
     "start_time": "2024-12-18T00:05:31.904925Z"
    }
   },
   "source": [
    "contingency_table_pclass = pd.crosstab(\n",
    "    train_data['Pclass'], train_data['Survived']\n",
    ")"
   ],
   "outputs": [],
   "execution_count": 24
  },
  {
   "cell_type": "code",
   "id": "1c34ecf7-705e-4b5c-8ada-e7013ce0a3d2",
   "metadata": {
    "ExecuteTime": {
     "end_time": "2024-12-18T00:05:32.005565Z",
     "start_time": "2024-12-18T00:05:31.998302Z"
    }
   },
   "source": [
    "chi2_pclass, p_value, dof_pclass, expected_pclass = chi2_contingency(\n",
    "    contingency_table_pclass\n",
    ")\n",
    "print(f'chi-2: {round(chi2_pclass,2)}\\np-value: {round(p_value,2)}')"
   ],
   "outputs": [
    {
     "name": "stdout",
     "output_type": "stream",
     "text": [
      "chi-2: 100.98\n",
      "p-value: 0.0\n"
     ]
    }
   ],
   "execution_count": 25
  },
  {
   "cell_type": "markdown",
   "id": "10f18f09-996b-41c4-bdfd-2457738d66d5",
   "metadata": {},
   "source": [
    "### Passengers with more SibSp and more Parch survived less"
   ]
  },
  {
   "cell_type": "markdown",
   "id": "38e8b863-4f5c-40a0-9871-38c91f07a1cf",
   "metadata": {},
   "source": [
    "H0 -> It is the same<br>\n",
    "H1 -> Less"
   ]
  },
  {
   "cell_type": "code",
   "id": "b07647d0-feb4-4cb4-8e96-b14449b2baed",
   "metadata": {
    "ExecuteTime": {
     "end_time": "2024-12-18T00:05:32.151805Z",
     "start_time": "2024-12-18T00:05:32.138235Z"
    }
   },
   "source": [
    "contingency_table_sibsp = pd.crosstab(\n",
    "    train_data['SibSp'], train_data['Survived']\n",
    ")"
   ],
   "outputs": [],
   "execution_count": 26
  },
  {
   "cell_type": "code",
   "id": "500bd386-d5e5-4eef-b0e9-5837eb3eb152",
   "metadata": {
    "ExecuteTime": {
     "end_time": "2024-12-18T00:05:32.260466Z",
     "start_time": "2024-12-18T00:05:32.247541Z"
    }
   },
   "source": [
    "contingency_table_parch = pd.crosstab(\n",
    "    train_data['Parch'], train_data['Survived']\n",
    ")"
   ],
   "outputs": [],
   "execution_count": 27
  },
  {
   "cell_type": "code",
   "id": "4a7fbc36-af0d-447d-921d-b389f628ace6",
   "metadata": {
    "ExecuteTime": {
     "end_time": "2024-12-18T00:05:32.355154Z",
     "start_time": "2024-12-18T00:05:32.338523Z"
    }
   },
   "source": [
    "chi2_sibsp, p_value, _, _ = chi2_contingency(\n",
    "    contingency_table_sibsp\n",
    ")\n",
    "print('SibSp')\n",
    "print(f'chi-2: {round(chi2_sibsp,2)}\\np-value: {round(p_value,2)}')\n",
    "chi2_parch, p_value, _, _ = chi2_contingency(\n",
    "    contingency_table_parch\n",
    ")\n",
    "print('Parch')\n",
    "print(f'chi-2: {round(chi2_parch,2)}\\np-value: {round(p_value,2)}')"
   ],
   "outputs": [
    {
     "name": "stdout",
     "output_type": "stream",
     "text": [
      "SibSp\n",
      "chi-2: 37.74\n",
      "p-value: 0.0\n",
      "Parch\n",
      "chi-2: 28.4\n",
      "p-value: 0.0\n"
     ]
    }
   ],
   "execution_count": 28
  },
  {
   "cell_type": "markdown",
   "id": "6fda0d83-1788-47b9-9d9e-06b0aa62702f",
   "metadata": {},
   "source": [
    "**Rejected H0** - both"
   ]
  },
  {
   "cell_type": "markdown",
   "id": "0775fb5d-4309-4ded-9148-a47ca2d78f13",
   "metadata": {},
   "source": [
    "### Embarked C survived more than S and Q - Q > S"
   ]
  },
  {
   "cell_type": "markdown",
   "id": "fad344da-6ef0-4657-a170-785890b7bb3b",
   "metadata": {},
   "source": [
    "H0 -> It is the same<br>\n",
    "H1 -> Higher"
   ]
  },
  {
   "cell_type": "code",
   "id": "1f9a1b40-fe52-4673-8dda-f23781130b9a",
   "metadata": {
    "ExecuteTime": {
     "end_time": "2024-12-18T00:05:32.550153Z",
     "start_time": "2024-12-18T00:05:32.535823Z"
    }
   },
   "source": [
    "contingency_table_embarked = pd.crosstab(\n",
    "    train_data['Embarked'], train_data['Survived']\n",
    ")"
   ],
   "outputs": [],
   "execution_count": 29
  },
  {
   "cell_type": "code",
   "id": "8c741097-c275-4622-8215-f57d7d69fcce",
   "metadata": {
    "ExecuteTime": {
     "end_time": "2024-12-18T00:05:32.744653Z",
     "start_time": "2024-12-18T00:05:32.736801Z"
    }
   },
   "source": [
    "chi2_embarked, p_value, _, _ = chi2_contingency(\n",
    "    contingency_table_embarked\n",
    ")\n",
    "print(f'chi-2: {round(chi2_embarked,2)}\\np-value: {round(p_value,2)}')"
   ],
   "outputs": [
    {
     "name": "stdout",
     "output_type": "stream",
     "text": [
      "chi-2: 26.49\n",
      "p-value: 0.0\n"
     ]
    }
   ],
   "execution_count": 30
  },
  {
   "cell_type": "markdown",
   "id": "2f2158b3-0925-4d51-90e3-adfc1f17096d",
   "metadata": {},
   "source": [
    "**Rejected H0**"
   ]
  },
  {
   "cell_type": "markdown",
   "id": "93e5c26b-7769-42d0-8152-f4387effb59a",
   "metadata": {},
   "source": [
    "## Machine Learning Model - Random Forest"
   ]
  },
  {
   "cell_type": "code",
   "id": "a4084fd6-305a-496a-b081-ef136e818984",
   "metadata": {
    "ExecuteTime": {
     "end_time": "2024-12-18T00:05:32.934236Z",
     "start_time": "2024-12-18T00:05:32.920364Z"
    }
   },
   "source": [
    "test_data = pd.read_csv('../datasets/test.csv')"
   ],
   "outputs": [],
   "execution_count": 31
  },
  {
   "cell_type": "code",
   "id": "36010904-02de-49d3-b39c-c488fc78f6dd",
   "metadata": {
    "ExecuteTime": {
     "end_time": "2024-12-18T00:05:33.063151Z",
     "start_time": "2024-12-18T00:05:33.040792Z"
    }
   },
   "source": [
    "y = train_data['Survived']\n",
    "features = ['Sex', 'Pclass', 'Fare', 'SibSp', 'Parch', 'Embarked']\n",
    "X = pd.get_dummies(train_data[features])\n",
    "X_test = pd.get_dummies(test_data[features])"
   ],
   "outputs": [],
   "execution_count": 32
  },
  {
   "cell_type": "code",
   "id": "036d3fad-557a-4ab3-b87e-870bae3c9791",
   "metadata": {
    "ExecuteTime": {
     "end_time": "2024-12-18T00:05:34.323033Z",
     "start_time": "2024-12-18T00:05:33.156031Z"
    }
   },
   "source": [
    "best_params = {\n",
    "    'max_depth': 20, \n",
    "    'n_estimators': 500\n",
    "}\n",
    "model = RandomForestClassifier(\n",
    "    **best_params, random_state=1\n",
    ")\n",
    "model.fit(X, y)"
   ],
   "outputs": [
    {
     "data": {
      "text/plain": [
       "RandomForestClassifier(max_depth=20, n_estimators=500, random_state=1)"
      ],
      "text/html": [
       "<style>#sk-container-id-1 {\n",
       "  /* Definition of color scheme common for light and dark mode */\n",
       "  --sklearn-color-text: black;\n",
       "  --sklearn-color-line: gray;\n",
       "  /* Definition of color scheme for unfitted estimators */\n",
       "  --sklearn-color-unfitted-level-0: #fff5e6;\n",
       "  --sklearn-color-unfitted-level-1: #f6e4d2;\n",
       "  --sklearn-color-unfitted-level-2: #ffe0b3;\n",
       "  --sklearn-color-unfitted-level-3: chocolate;\n",
       "  /* Definition of color scheme for fitted estimators */\n",
       "  --sklearn-color-fitted-level-0: #f0f8ff;\n",
       "  --sklearn-color-fitted-level-1: #d4ebff;\n",
       "  --sklearn-color-fitted-level-2: #b3dbfd;\n",
       "  --sklearn-color-fitted-level-3: cornflowerblue;\n",
       "\n",
       "  /* Specific color for light theme */\n",
       "  --sklearn-color-text-on-default-background: var(--sg-text-color, var(--theme-code-foreground, var(--jp-content-font-color1, black)));\n",
       "  --sklearn-color-background: var(--sg-background-color, var(--theme-background, var(--jp-layout-color0, white)));\n",
       "  --sklearn-color-border-box: var(--sg-text-color, var(--theme-code-foreground, var(--jp-content-font-color1, black)));\n",
       "  --sklearn-color-icon: #696969;\n",
       "\n",
       "  @media (prefers-color-scheme: dark) {\n",
       "    /* Redefinition of color scheme for dark theme */\n",
       "    --sklearn-color-text-on-default-background: var(--sg-text-color, var(--theme-code-foreground, var(--jp-content-font-color1, white)));\n",
       "    --sklearn-color-background: var(--sg-background-color, var(--theme-background, var(--jp-layout-color0, #111)));\n",
       "    --sklearn-color-border-box: var(--sg-text-color, var(--theme-code-foreground, var(--jp-content-font-color1, white)));\n",
       "    --sklearn-color-icon: #878787;\n",
       "  }\n",
       "}\n",
       "\n",
       "#sk-container-id-1 {\n",
       "  color: var(--sklearn-color-text);\n",
       "}\n",
       "\n",
       "#sk-container-id-1 pre {\n",
       "  padding: 0;\n",
       "}\n",
       "\n",
       "#sk-container-id-1 input.sk-hidden--visually {\n",
       "  border: 0;\n",
       "  clip: rect(1px 1px 1px 1px);\n",
       "  clip: rect(1px, 1px, 1px, 1px);\n",
       "  height: 1px;\n",
       "  margin: -1px;\n",
       "  overflow: hidden;\n",
       "  padding: 0;\n",
       "  position: absolute;\n",
       "  width: 1px;\n",
       "}\n",
       "\n",
       "#sk-container-id-1 div.sk-dashed-wrapped {\n",
       "  border: 1px dashed var(--sklearn-color-line);\n",
       "  margin: 0 0.4em 0.5em 0.4em;\n",
       "  box-sizing: border-box;\n",
       "  padding-bottom: 0.4em;\n",
       "  background-color: var(--sklearn-color-background);\n",
       "}\n",
       "\n",
       "#sk-container-id-1 div.sk-container {\n",
       "  /* jupyter's `normalize.less` sets `[hidden] { display: none; }`\n",
       "     but bootstrap.min.css set `[hidden] { display: none !important; }`\n",
       "     so we also need the `!important` here to be able to override the\n",
       "     default hidden behavior on the sphinx rendered scikit-learn.org.\n",
       "     See: https://github.com/scikit-learn/scikit-learn/issues/21755 */\n",
       "  display: inline-block !important;\n",
       "  position: relative;\n",
       "}\n",
       "\n",
       "#sk-container-id-1 div.sk-text-repr-fallback {\n",
       "  display: none;\n",
       "}\n",
       "\n",
       "div.sk-parallel-item,\n",
       "div.sk-serial,\n",
       "div.sk-item {\n",
       "  /* draw centered vertical line to link estimators */\n",
       "  background-image: linear-gradient(var(--sklearn-color-text-on-default-background), var(--sklearn-color-text-on-default-background));\n",
       "  background-size: 2px 100%;\n",
       "  background-repeat: no-repeat;\n",
       "  background-position: center center;\n",
       "}\n",
       "\n",
       "/* Parallel-specific style estimator block */\n",
       "\n",
       "#sk-container-id-1 div.sk-parallel-item::after {\n",
       "  content: \"\";\n",
       "  width: 100%;\n",
       "  border-bottom: 2px solid var(--sklearn-color-text-on-default-background);\n",
       "  flex-grow: 1;\n",
       "}\n",
       "\n",
       "#sk-container-id-1 div.sk-parallel {\n",
       "  display: flex;\n",
       "  align-items: stretch;\n",
       "  justify-content: center;\n",
       "  background-color: var(--sklearn-color-background);\n",
       "  position: relative;\n",
       "}\n",
       "\n",
       "#sk-container-id-1 div.sk-parallel-item {\n",
       "  display: flex;\n",
       "  flex-direction: column;\n",
       "}\n",
       "\n",
       "#sk-container-id-1 div.sk-parallel-item:first-child::after {\n",
       "  align-self: flex-end;\n",
       "  width: 50%;\n",
       "}\n",
       "\n",
       "#sk-container-id-1 div.sk-parallel-item:last-child::after {\n",
       "  align-self: flex-start;\n",
       "  width: 50%;\n",
       "}\n",
       "\n",
       "#sk-container-id-1 div.sk-parallel-item:only-child::after {\n",
       "  width: 0;\n",
       "}\n",
       "\n",
       "/* Serial-specific style estimator block */\n",
       "\n",
       "#sk-container-id-1 div.sk-serial {\n",
       "  display: flex;\n",
       "  flex-direction: column;\n",
       "  align-items: center;\n",
       "  background-color: var(--sklearn-color-background);\n",
       "  padding-right: 1em;\n",
       "  padding-left: 1em;\n",
       "}\n",
       "\n",
       "\n",
       "/* Toggleable style: style used for estimator/Pipeline/ColumnTransformer box that is\n",
       "clickable and can be expanded/collapsed.\n",
       "- Pipeline and ColumnTransformer use this feature and define the default style\n",
       "- Estimators will overwrite some part of the style using the `sk-estimator` class\n",
       "*/\n",
       "\n",
       "/* Pipeline and ColumnTransformer style (default) */\n",
       "\n",
       "#sk-container-id-1 div.sk-toggleable {\n",
       "  /* Default theme specific background. It is overwritten whether we have a\n",
       "  specific estimator or a Pipeline/ColumnTransformer */\n",
       "  background-color: var(--sklearn-color-background);\n",
       "}\n",
       "\n",
       "/* Toggleable label */\n",
       "#sk-container-id-1 label.sk-toggleable__label {\n",
       "  cursor: pointer;\n",
       "  display: block;\n",
       "  width: 100%;\n",
       "  margin-bottom: 0;\n",
       "  padding: 0.5em;\n",
       "  box-sizing: border-box;\n",
       "  text-align: center;\n",
       "}\n",
       "\n",
       "#sk-container-id-1 label.sk-toggleable__label-arrow:before {\n",
       "  /* Arrow on the left of the label */\n",
       "  content: \"▸\";\n",
       "  float: left;\n",
       "  margin-right: 0.25em;\n",
       "  color: var(--sklearn-color-icon);\n",
       "}\n",
       "\n",
       "#sk-container-id-1 label.sk-toggleable__label-arrow:hover:before {\n",
       "  color: var(--sklearn-color-text);\n",
       "}\n",
       "\n",
       "/* Toggleable content - dropdown */\n",
       "\n",
       "#sk-container-id-1 div.sk-toggleable__content {\n",
       "  max-height: 0;\n",
       "  max-width: 0;\n",
       "  overflow: hidden;\n",
       "  text-align: left;\n",
       "  /* unfitted */\n",
       "  background-color: var(--sklearn-color-unfitted-level-0);\n",
       "}\n",
       "\n",
       "#sk-container-id-1 div.sk-toggleable__content.fitted {\n",
       "  /* fitted */\n",
       "  background-color: var(--sklearn-color-fitted-level-0);\n",
       "}\n",
       "\n",
       "#sk-container-id-1 div.sk-toggleable__content pre {\n",
       "  margin: 0.2em;\n",
       "  border-radius: 0.25em;\n",
       "  color: var(--sklearn-color-text);\n",
       "  /* unfitted */\n",
       "  background-color: var(--sklearn-color-unfitted-level-0);\n",
       "}\n",
       "\n",
       "#sk-container-id-1 div.sk-toggleable__content.fitted pre {\n",
       "  /* unfitted */\n",
       "  background-color: var(--sklearn-color-fitted-level-0);\n",
       "}\n",
       "\n",
       "#sk-container-id-1 input.sk-toggleable__control:checked~div.sk-toggleable__content {\n",
       "  /* Expand drop-down */\n",
       "  max-height: 200px;\n",
       "  max-width: 100%;\n",
       "  overflow: auto;\n",
       "}\n",
       "\n",
       "#sk-container-id-1 input.sk-toggleable__control:checked~label.sk-toggleable__label-arrow:before {\n",
       "  content: \"▾\";\n",
       "}\n",
       "\n",
       "/* Pipeline/ColumnTransformer-specific style */\n",
       "\n",
       "#sk-container-id-1 div.sk-label input.sk-toggleable__control:checked~label.sk-toggleable__label {\n",
       "  color: var(--sklearn-color-text);\n",
       "  background-color: var(--sklearn-color-unfitted-level-2);\n",
       "}\n",
       "\n",
       "#sk-container-id-1 div.sk-label.fitted input.sk-toggleable__control:checked~label.sk-toggleable__label {\n",
       "  background-color: var(--sklearn-color-fitted-level-2);\n",
       "}\n",
       "\n",
       "/* Estimator-specific style */\n",
       "\n",
       "/* Colorize estimator box */\n",
       "#sk-container-id-1 div.sk-estimator input.sk-toggleable__control:checked~label.sk-toggleable__label {\n",
       "  /* unfitted */\n",
       "  background-color: var(--sklearn-color-unfitted-level-2);\n",
       "}\n",
       "\n",
       "#sk-container-id-1 div.sk-estimator.fitted input.sk-toggleable__control:checked~label.sk-toggleable__label {\n",
       "  /* fitted */\n",
       "  background-color: var(--sklearn-color-fitted-level-2);\n",
       "}\n",
       "\n",
       "#sk-container-id-1 div.sk-label label.sk-toggleable__label,\n",
       "#sk-container-id-1 div.sk-label label {\n",
       "  /* The background is the default theme color */\n",
       "  color: var(--sklearn-color-text-on-default-background);\n",
       "}\n",
       "\n",
       "/* On hover, darken the color of the background */\n",
       "#sk-container-id-1 div.sk-label:hover label.sk-toggleable__label {\n",
       "  color: var(--sklearn-color-text);\n",
       "  background-color: var(--sklearn-color-unfitted-level-2);\n",
       "}\n",
       "\n",
       "/* Label box, darken color on hover, fitted */\n",
       "#sk-container-id-1 div.sk-label.fitted:hover label.sk-toggleable__label.fitted {\n",
       "  color: var(--sklearn-color-text);\n",
       "  background-color: var(--sklearn-color-fitted-level-2);\n",
       "}\n",
       "\n",
       "/* Estimator label */\n",
       "\n",
       "#sk-container-id-1 div.sk-label label {\n",
       "  font-family: monospace;\n",
       "  font-weight: bold;\n",
       "  display: inline-block;\n",
       "  line-height: 1.2em;\n",
       "}\n",
       "\n",
       "#sk-container-id-1 div.sk-label-container {\n",
       "  text-align: center;\n",
       "}\n",
       "\n",
       "/* Estimator-specific */\n",
       "#sk-container-id-1 div.sk-estimator {\n",
       "  font-family: monospace;\n",
       "  border: 1px dotted var(--sklearn-color-border-box);\n",
       "  border-radius: 0.25em;\n",
       "  box-sizing: border-box;\n",
       "  margin-bottom: 0.5em;\n",
       "  /* unfitted */\n",
       "  background-color: var(--sklearn-color-unfitted-level-0);\n",
       "}\n",
       "\n",
       "#sk-container-id-1 div.sk-estimator.fitted {\n",
       "  /* fitted */\n",
       "  background-color: var(--sklearn-color-fitted-level-0);\n",
       "}\n",
       "\n",
       "/* on hover */\n",
       "#sk-container-id-1 div.sk-estimator:hover {\n",
       "  /* unfitted */\n",
       "  background-color: var(--sklearn-color-unfitted-level-2);\n",
       "}\n",
       "\n",
       "#sk-container-id-1 div.sk-estimator.fitted:hover {\n",
       "  /* fitted */\n",
       "  background-color: var(--sklearn-color-fitted-level-2);\n",
       "}\n",
       "\n",
       "/* Specification for estimator info (e.g. \"i\" and \"?\") */\n",
       "\n",
       "/* Common style for \"i\" and \"?\" */\n",
       "\n",
       ".sk-estimator-doc-link,\n",
       "a:link.sk-estimator-doc-link,\n",
       "a:visited.sk-estimator-doc-link {\n",
       "  float: right;\n",
       "  font-size: smaller;\n",
       "  line-height: 1em;\n",
       "  font-family: monospace;\n",
       "  background-color: var(--sklearn-color-background);\n",
       "  border-radius: 1em;\n",
       "  height: 1em;\n",
       "  width: 1em;\n",
       "  text-decoration: none !important;\n",
       "  margin-left: 1ex;\n",
       "  /* unfitted */\n",
       "  border: var(--sklearn-color-unfitted-level-1) 1pt solid;\n",
       "  color: var(--sklearn-color-unfitted-level-1);\n",
       "}\n",
       "\n",
       ".sk-estimator-doc-link.fitted,\n",
       "a:link.sk-estimator-doc-link.fitted,\n",
       "a:visited.sk-estimator-doc-link.fitted {\n",
       "  /* fitted */\n",
       "  border: var(--sklearn-color-fitted-level-1) 1pt solid;\n",
       "  color: var(--sklearn-color-fitted-level-1);\n",
       "}\n",
       "\n",
       "/* On hover */\n",
       "div.sk-estimator:hover .sk-estimator-doc-link:hover,\n",
       ".sk-estimator-doc-link:hover,\n",
       "div.sk-label-container:hover .sk-estimator-doc-link:hover,\n",
       ".sk-estimator-doc-link:hover {\n",
       "  /* unfitted */\n",
       "  background-color: var(--sklearn-color-unfitted-level-3);\n",
       "  color: var(--sklearn-color-background);\n",
       "  text-decoration: none;\n",
       "}\n",
       "\n",
       "div.sk-estimator.fitted:hover .sk-estimator-doc-link.fitted:hover,\n",
       ".sk-estimator-doc-link.fitted:hover,\n",
       "div.sk-label-container:hover .sk-estimator-doc-link.fitted:hover,\n",
       ".sk-estimator-doc-link.fitted:hover {\n",
       "  /* fitted */\n",
       "  background-color: var(--sklearn-color-fitted-level-3);\n",
       "  color: var(--sklearn-color-background);\n",
       "  text-decoration: none;\n",
       "}\n",
       "\n",
       "/* Span, style for the box shown on hovering the info icon */\n",
       ".sk-estimator-doc-link span {\n",
       "  display: none;\n",
       "  z-index: 9999;\n",
       "  position: relative;\n",
       "  font-weight: normal;\n",
       "  right: .2ex;\n",
       "  padding: .5ex;\n",
       "  margin: .5ex;\n",
       "  width: min-content;\n",
       "  min-width: 20ex;\n",
       "  max-width: 50ex;\n",
       "  color: var(--sklearn-color-text);\n",
       "  box-shadow: 2pt 2pt 4pt #999;\n",
       "  /* unfitted */\n",
       "  background: var(--sklearn-color-unfitted-level-0);\n",
       "  border: .5pt solid var(--sklearn-color-unfitted-level-3);\n",
       "}\n",
       "\n",
       ".sk-estimator-doc-link.fitted span {\n",
       "  /* fitted */\n",
       "  background: var(--sklearn-color-fitted-level-0);\n",
       "  border: var(--sklearn-color-fitted-level-3);\n",
       "}\n",
       "\n",
       ".sk-estimator-doc-link:hover span {\n",
       "  display: block;\n",
       "}\n",
       "\n",
       "/* \"?\"-specific style due to the `<a>` HTML tag */\n",
       "\n",
       "#sk-container-id-1 a.estimator_doc_link {\n",
       "  float: right;\n",
       "  font-size: 1rem;\n",
       "  line-height: 1em;\n",
       "  font-family: monospace;\n",
       "  background-color: var(--sklearn-color-background);\n",
       "  border-radius: 1rem;\n",
       "  height: 1rem;\n",
       "  width: 1rem;\n",
       "  text-decoration: none;\n",
       "  /* unfitted */\n",
       "  color: var(--sklearn-color-unfitted-level-1);\n",
       "  border: var(--sklearn-color-unfitted-level-1) 1pt solid;\n",
       "}\n",
       "\n",
       "#sk-container-id-1 a.estimator_doc_link.fitted {\n",
       "  /* fitted */\n",
       "  border: var(--sklearn-color-fitted-level-1) 1pt solid;\n",
       "  color: var(--sklearn-color-fitted-level-1);\n",
       "}\n",
       "\n",
       "/* On hover */\n",
       "#sk-container-id-1 a.estimator_doc_link:hover {\n",
       "  /* unfitted */\n",
       "  background-color: var(--sklearn-color-unfitted-level-3);\n",
       "  color: var(--sklearn-color-background);\n",
       "  text-decoration: none;\n",
       "}\n",
       "\n",
       "#sk-container-id-1 a.estimator_doc_link.fitted:hover {\n",
       "  /* fitted */\n",
       "  background-color: var(--sklearn-color-fitted-level-3);\n",
       "}\n",
       "</style><div id=\"sk-container-id-1\" class=\"sk-top-container\"><div class=\"sk-text-repr-fallback\"><pre>RandomForestClassifier(max_depth=20, n_estimators=500, random_state=1)</pre><b>In a Jupyter environment, please rerun this cell to show the HTML representation or trust the notebook. <br />On GitHub, the HTML representation is unable to render, please try loading this page with nbviewer.org.</b></div><div class=\"sk-container\" hidden><div class=\"sk-item\"><div class=\"sk-estimator fitted sk-toggleable\"><input class=\"sk-toggleable__control sk-hidden--visually\" id=\"sk-estimator-id-1\" type=\"checkbox\" checked><label for=\"sk-estimator-id-1\" class=\"sk-toggleable__label fitted sk-toggleable__label-arrow fitted\">&nbsp;&nbsp;RandomForestClassifier<a class=\"sk-estimator-doc-link fitted\" rel=\"noreferrer\" target=\"_blank\" href=\"https://scikit-learn.org/1.5/modules/generated/sklearn.ensemble.RandomForestClassifier.html\">?<span>Documentation for RandomForestClassifier</span></a><span class=\"sk-estimator-doc-link fitted\">i<span>Fitted</span></span></label><div class=\"sk-toggleable__content fitted\"><pre>RandomForestClassifier(max_depth=20, n_estimators=500, random_state=1)</pre></div> </div></div></div></div>"
      ]
     },
     "execution_count": 33,
     "metadata": {},
     "output_type": "execute_result"
    }
   ],
   "execution_count": 33
  },
  {
   "cell_type": "code",
   "id": "f7b74121-b179-410b-9437-2253fe543d35",
   "metadata": {
    "ExecuteTime": {
     "end_time": "2024-12-18T00:05:34.643766Z",
     "start_time": "2024-12-18T00:05:34.578328Z"
    }
   },
   "source": [
    "predictions = model.predict(X_test)\n",
    "predictions[:5]"
   ],
   "outputs": [
    {
     "data": {
      "text/plain": [
       "array([0, 1, 0, 0, 1], dtype=int64)"
      ]
     },
     "execution_count": 34,
     "metadata": {},
     "output_type": "execute_result"
    }
   ],
   "execution_count": 34
  },
  {
   "cell_type": "code",
   "id": "e519626e-145d-4bd7-9dba-42278c026c26",
   "metadata": {
    "ExecuteTime": {
     "end_time": "2024-12-18T00:05:34.971441Z",
     "start_time": "2024-12-18T00:05:34.955947Z"
    }
   },
   "source": [
    "output = pd.DataFrame(\n",
    "    {\n",
    "        'PassengerId': test_data.PassengerId,\n",
    "        'Survived': predictions\n",
    "    }\n",
    ")\n",
    "output.head()"
   ],
   "outputs": [
    {
     "data": {
      "text/plain": [
       "   PassengerId  Survived\n",
       "0          892         0\n",
       "1          893         1\n",
       "2          894         0\n",
       "3          895         0\n",
       "4          896         1"
      ],
      "text/html": [
       "<div>\n",
       "<style scoped>\n",
       "    .dataframe tbody tr th:only-of-type {\n",
       "        vertical-align: middle;\n",
       "    }\n",
       "\n",
       "    .dataframe tbody tr th {\n",
       "        vertical-align: top;\n",
       "    }\n",
       "\n",
       "    .dataframe thead th {\n",
       "        text-align: right;\n",
       "    }\n",
       "</style>\n",
       "<table border=\"1\" class=\"dataframe\">\n",
       "  <thead>\n",
       "    <tr style=\"text-align: right;\">\n",
       "      <th></th>\n",
       "      <th>PassengerId</th>\n",
       "      <th>Survived</th>\n",
       "    </tr>\n",
       "  </thead>\n",
       "  <tbody>\n",
       "    <tr>\n",
       "      <th>0</th>\n",
       "      <td>892</td>\n",
       "      <td>0</td>\n",
       "    </tr>\n",
       "    <tr>\n",
       "      <th>1</th>\n",
       "      <td>893</td>\n",
       "      <td>1</td>\n",
       "    </tr>\n",
       "    <tr>\n",
       "      <th>2</th>\n",
       "      <td>894</td>\n",
       "      <td>0</td>\n",
       "    </tr>\n",
       "    <tr>\n",
       "      <th>3</th>\n",
       "      <td>895</td>\n",
       "      <td>0</td>\n",
       "    </tr>\n",
       "    <tr>\n",
       "      <th>4</th>\n",
       "      <td>896</td>\n",
       "      <td>1</td>\n",
       "    </tr>\n",
       "  </tbody>\n",
       "</table>\n",
       "</div>"
      ]
     },
     "execution_count": 35,
     "metadata": {},
     "output_type": "execute_result"
    }
   ],
   "execution_count": 35
  },
  {
   "cell_type": "code",
   "id": "7e84a1c8-a8fa-4321-bc22-1a7840f33391",
   "metadata": {
    "ExecuteTime": {
     "end_time": "2024-12-18T00:05:35.136394Z",
     "start_time": "2024-12-18T00:05:35.115823Z"
    }
   },
   "source": [
    "output.to_csv('submission.csv', index=False)"
   ],
   "outputs": [],
   "execution_count": 36
  },
  {
   "metadata": {},
   "cell_type": "markdown",
   "source": "**Score: 0.77033**",
   "id": "01b1e0ab-58d6-48cb-99fb-c1162af99d94"
  }
 ],
 "metadata": {
  "kernelspec": {
   "display_name": "Python 3 (ipykernel)",
   "language": "python",
   "name": "python3"
  },
  "language_info": {
   "codemirror_mode": {
    "name": "ipython",
    "version": 3
   },
   "file_extension": ".py",
   "mimetype": "text/x-python",
   "name": "python",
   "nbconvert_exporter": "python",
   "pygments_lexer": "ipython3",
   "version": "3.12.5"
  }
 },
 "nbformat": 4,
 "nbformat_minor": 5
}
